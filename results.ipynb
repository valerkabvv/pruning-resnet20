{
 "cells": [
  {
   "cell_type": "code",
   "execution_count": 1,
   "metadata": {
    "colab": {
     "base_uri": "https://localhost:8080/"
    },
    "id": "-d-CklGS5nZO",
    "outputId": "c226caf0-3759-4114-c4c7-9fa329414b92"
   },
   "outputs": [
    {
     "name": "stdout",
     "output_type": "stream",
     "text": [
      "Cloning into 'pruning-resnet20'...\n",
      "remote: Enumerating objects: 106, done.\u001b[K\n",
      "remote: Counting objects: 100% (106/106), done.\u001b[K\n",
      "remote: Compressing objects: 100% (73/73), done.\u001b[K\n",
      "remote: Total 106 (delta 59), reused 79 (delta 32), pack-reused 0\u001b[K\n",
      "Receiving objects: 100% (106/106), 1016.62 KiB | 1.18 MiB/s, done.\n",
      "Resolving deltas: 100% (59/59), done.\n"
     ]
    }
   ],
   "source": [
    "!git clone https://github.com/valerkabvv/pruning-resnet20.git"
   ]
  },
  {
   "cell_type": "code",
   "execution_count": 1,
   "metadata": {
    "id": "MMile2EH5uK4"
   },
   "outputs": [],
   "source": [
    "import sys\n",
    "sys.path.append('pruning-resnet20')\n",
    "from models.resnet import resnet20\n",
    "from torchsummary import summary\n",
    "import torch\n",
    "import numpy as np\n",
    "import matplotlib.pyplot as plt\n",
    "from torchvision.datasets import CIFAR10\n",
    "\n",
    "from data.CIFAR10_transforms import cifar_transform_train, cifar_transform_test\n",
    "from training_utils.training import train, validate\n",
    "from training_utils.training import train\n",
    "from training_utils.kmeans_prune import get_pruned_model"
   ]
  },
  {
   "cell_type": "code",
   "execution_count": 2,
   "metadata": {
    "colab": {
     "base_uri": "https://localhost:8080/"
    },
    "id": "xaZG-HIkxpl2",
    "outputId": "7f1faa5b-5683-477a-ed8b-3bcc7cde0ad4"
   },
   "outputs": [
    {
     "name": "stdout",
     "output_type": "stream",
     "text": [
      "Files already downloaded and verified\n",
      "Files already downloaded and verified\n"
     ]
    }
   ],
   "source": [
    "dataset_train = CIFAR10(download = True, root = './', transform = cifar_transform_train)\n",
    "dataset_test = CIFAR10(train = False, download = True, root = './', transform = cifar_transform_test)"
   ]
  },
  {
   "cell_type": "code",
   "execution_count": 3,
   "metadata": {
    "id": "yvC5cfzxYJyx"
   },
   "outputs": [],
   "source": [
    "# summary(resnet20().cuda(), (3,32,32))"
   ]
  },
  {
   "cell_type": "code",
   "execution_count": 4,
   "metadata": {
    "id": "xkto-cJr540f"
   },
   "outputs": [],
   "source": [
    "## раскоментировать для обучения модели\n",
    "# !python /content/pruning-resnet20/train_resnet20_cifar10.py"
   ]
  },
  {
   "cell_type": "code",
   "execution_count": 3,
   "metadata": {
    "colab": {
     "base_uri": "https://localhost:8080/"
    },
    "id": "7Q_GLyWOtcSJ",
    "outputId": "821b3910-11ef-4095-b1ed-ae9f128f47b4"
   },
   "outputs": [
    {
     "data": {
      "text/plain": [
       "<All keys matched successfully>"
      ]
     },
     "execution_count": 3,
     "metadata": {
      "tags": []
     },
     "output_type": "execute_result"
    }
   ],
   "source": [
    "md = resnet20()\n",
    "md.load_state_dict(torch.load('best_model.ckpt'))"
   ]
  },
  {
   "cell_type": "code",
   "execution_count": 7,
   "metadata": {
    "id": "BHTKnA2S05hI"
   },
   "outputs": [],
   "source": [
    "## раскоментировать для валидации модели\n",
    "# !python  /content/pruning-resnet20/validate_resnet20_cifar10.py \"/content/pruning-resnet20/best_model.ckpt\""
   ]
  },
  {
   "cell_type": "code",
   "execution_count": 4,
   "metadata": {
    "id": "_lG2d_SKvZnO"
   },
   "outputs": [],
   "source": [
    "num_filters = [16]*7+[32]*6+[64]*6 # исходное количество фильтров в свертах\n",
    "# clusters_num = [num//10*3 for num in num_filters] # сколько кластеров оставить\n",
    "#[10 for _ in range(19)]"
   ]
  },
  {
   "cell_type": "code",
   "execution_count": 11,
   "metadata": {
    "id": "TxOVPC23uJ1u"
   },
   "outputs": [],
   "source": [
    "pruned_md = get_pruned_model(md, clusters_num) # получаем запруненую модель"
   ]
  },
  {
   "cell_type": "code",
   "execution_count": 8,
   "metadata": {
    "colab": {
     "base_uri": "https://localhost:8080/"
    },
    "id": "QVBaGcI8pODY",
    "outputId": "177319b3-c2c5-42fb-8d95-92dea1e0ffed"
   },
   "outputs": [
    {
     "name": "stderr",
     "output_type": "stream",
     "text": [
      "valid model: 100%|██████████| 79/79 [00:02<00:00, 35.71it/s]"
     ]
    },
    {
     "name": "stdout",
     "output_type": "stream",
     "text": [
      "              precision    recall  f1-score   support\n",
      "\n",
      "           0       0.93      0.93      0.93      1000\n",
      "           1       0.96      0.96      0.96      1000\n",
      "           2       0.88      0.88      0.88      1000\n",
      "           3       0.84      0.84      0.84      1000\n",
      "           4       0.92      0.94      0.93      1000\n",
      "           5       0.88      0.87      0.88      1000\n",
      "           6       0.95      0.94      0.95      1000\n",
      "           7       0.96      0.95      0.95      1000\n",
      "           8       0.95      0.96      0.95      1000\n",
      "           9       0.95      0.95      0.95      1000\n",
      "\n",
      "    accuracy                           0.92     10000\n",
      "   macro avg       0.92      0.92      0.92     10000\n",
      "weighted avg       0.92      0.92      0.92     10000\n",
      "\n"
     ]
    },
    {
     "name": "stderr",
     "output_type": "stream",
     "text": [
      "\n"
     ]
    }
   ],
   "source": [
    "# оригинальная модель\n",
    "validate(md, dataset_test)"
   ]
  },
  {
   "cell_type": "code",
   "execution_count": 33,
   "metadata": {
    "colab": {
     "base_uri": "https://localhost:8080/"
    },
    "id": "xqPbviTzxuVN",
    "outputId": "88dc7a0e-60bc-4756-c64b-34abed6ada47"
   },
   "outputs": [
    {
     "name": "stderr",
     "output_type": "stream",
     "text": [
      "valid model: 100%|██████████| 79/79 [00:02<00:00, 27.77it/s]"
     ]
    },
    {
     "name": "stdout",
     "output_type": "stream",
     "text": [
      "              precision    recall  f1-score   support\n",
      "\n",
      "           0       0.00      0.00      0.00      1000\n",
      "           1       0.10      0.80      0.17      1000\n",
      "           2       0.00      0.00      0.00      1000\n",
      "           3       0.00      0.00      0.00      1000\n",
      "           4       0.09      0.15      0.11      1000\n",
      "           5       0.00      0.00      0.00      1000\n",
      "           6       0.00      0.00      0.00      1000\n",
      "           7       0.00      0.00      0.00      1000\n",
      "           8       0.00      0.00      0.00      1000\n",
      "           9       0.00      0.00      0.00      1000\n",
      "\n",
      "    accuracy                           0.10     10000\n",
      "   macro avg       0.02      0.10      0.03     10000\n",
      "weighted avg       0.02      0.10      0.03     10000\n",
      "\n"
     ]
    },
    {
     "name": "stderr",
     "output_type": "stream",
     "text": [
      "\n",
      "/usr/local/lib/python3.7/dist-packages/sklearn/metrics/_classification.py:1272: UndefinedMetricWarning: Precision and F-score are ill-defined and being set to 0.0 in labels with no predicted samples. Use `zero_division` parameter to control this behavior.\n",
      "  _warn_prf(average, modifier, msg_start, len(result))\n"
     ]
    }
   ],
   "source": [
    "# без дообучения \n",
    "validate(pruned_md, dataset_test)"
   ]
  },
  {
   "cell_type": "markdown",
   "metadata": {
    "id": "H87ydK1xKsIM"
   },
   "source": [
    "Посчитаем точность модели при выборе числа кластеров для каждого слоя равному некоторой части от общего числа фильтров\n",
    "\n",
    "\n",
    "Обучаю по 15 эпох, lr =0.01, после 10 эпохи 0.001"
   ]
  },
  {
   "cell_type": "code",
   "execution_count": 5,
   "metadata": {
    "colab": {
     "base_uri": "https://localhost:8080/"
    },
    "id": "umH6IAcAKhAQ",
    "outputId": "095ff439-6ed9-4212-9b86-a827140ab4f4"
   },
   "outputs": [
    {
     "name": "stderr",
     "output_type": "stream",
     "text": [
      "val loss: 1.221, val acc: 0.561, train loss: 1.275, train acc: 0.545: 100%|██████████| 15/15 [12:59<00:00, 51.97s/it]\n",
      "valid model:   4%|▍         | 3/79 [00:00<00:02, 27.97it/s]"
     ]
    },
    {
     "name": "stdout",
     "output_type": "stream",
     "text": [
      "training finished with best accuracy : 0.561\n"
     ]
    },
    {
     "name": "stderr",
     "output_type": "stream",
     "text": [
      "valid model: 100%|██████████| 79/79 [00:02<00:00, 27.38it/s]\n",
      "val loss: 0.844, val acc: 0.694, train loss: 0.836, train acc: 0.704: 100%|██████████| 15/15 [12:51<00:00, 51.44s/it]\n",
      "valid model:   4%|▍         | 3/79 [00:00<00:02, 26.73it/s]"
     ]
    },
    {
     "name": "stdout",
     "output_type": "stream",
     "text": [
      "training finished with best accuracy : 0.694\n"
     ]
    },
    {
     "name": "stderr",
     "output_type": "stream",
     "text": [
      "valid model: 100%|██████████| 79/79 [00:02<00:00, 27.20it/s]\n",
      "val loss: 0.693, val acc: 0.747, train loss: 0.678, train acc: 0.761: 100%|██████████| 15/15 [12:54<00:00, 51.65s/it]\n",
      "valid model:   4%|▍         | 3/79 [00:00<00:03, 24.20it/s]"
     ]
    },
    {
     "name": "stdout",
     "output_type": "stream",
     "text": [
      "training finished with best accuracy : 0.747\n"
     ]
    },
    {
     "name": "stderr",
     "output_type": "stream",
     "text": [
      "valid model: 100%|██████████| 79/79 [00:02<00:00, 26.83it/s]\n",
      "val loss: 0.581, val acc: 0.796, train loss: 0.553, train acc: 0.806: 100%|██████████| 15/15 [12:59<00:00, 51.94s/it]\n",
      "valid model:   4%|▍         | 3/79 [00:00<00:02, 26.86it/s]"
     ]
    },
    {
     "name": "stdout",
     "output_type": "stream",
     "text": [
      "training finished with best accuracy : 0.796\n"
     ]
    },
    {
     "name": "stderr",
     "output_type": "stream",
     "text": [
      "valid model: 100%|██████████| 79/79 [00:02<00:00, 27.24it/s]\n",
      "val loss: 0.442, val acc: 0.843, train loss: 0.361, train acc: 0.874: 100%|██████████| 15/15 [13:08<00:00, 52.56s/it]\n",
      "valid model:   4%|▍         | 3/79 [00:00<00:02, 26.83it/s]"
     ]
    },
    {
     "name": "stdout",
     "output_type": "stream",
     "text": [
      "training finished with best accuracy : 0.846\n"
     ]
    },
    {
     "name": "stderr",
     "output_type": "stream",
     "text": [
      "valid model: 100%|██████████| 79/79 [00:02<00:00, 27.06it/s]\n",
      "val loss: 0.370, val acc: 0.869, train loss: 0.259, train acc: 0.910: 100%|██████████| 15/15 [13:11<00:00, 52.78s/it]\n",
      "valid model:   4%|▍         | 3/79 [00:00<00:02, 27.06it/s]"
     ]
    },
    {
     "name": "stdout",
     "output_type": "stream",
     "text": [
      "training finished with best accuracy : 0.869\n"
     ]
    },
    {
     "name": "stderr",
     "output_type": "stream",
     "text": [
      "valid model: 100%|██████████| 79/79 [00:02<00:00, 26.71it/s]\n",
      "val loss: 0.318, val acc: 0.887, train loss: 0.175, train acc: 0.940: 100%|██████████| 15/15 [13:21<00:00, 53.46s/it]\n",
      "valid model:   4%|▍         | 3/79 [00:00<00:02, 26.81it/s]"
     ]
    },
    {
     "name": "stdout",
     "output_type": "stream",
     "text": [
      "training finished with best accuracy : 0.890\n"
     ]
    },
    {
     "name": "stderr",
     "output_type": "stream",
     "text": [
      "valid model: 100%|██████████| 79/79 [00:02<00:00, 27.23it/s]\n",
      "val loss: 0.305, val acc: 0.895, train loss: 0.117, train acc: 0.960: 100%|██████████| 15/15 [13:22<00:00, 53.50s/it]\n",
      "valid model:   4%|▍         | 3/79 [00:00<00:03, 21.96it/s]"
     ]
    },
    {
     "name": "stdout",
     "output_type": "stream",
     "text": [
      "training finished with best accuracy : 0.898\n"
     ]
    },
    {
     "name": "stderr",
     "output_type": "stream",
     "text": [
      "valid model: 100%|██████████| 79/79 [00:02<00:00, 26.72it/s]\n"
     ]
    }
   ],
   "source": [
    "accuracy = []\n",
    "cluster_ratio = np.arange(1,9)/10\n",
    "\n",
    "for cl_r in cluster_ratio:\n",
    "    # оставляем cl_r кластеров в каждом слое\n",
    "    clusters_num = [int(num*cl_r) for num in num_filters]\n",
    "    pruned_md = get_pruned_model(md, clusters_num)\n",
    "    train(pruned_md, dataset_test, dataset_train,\n",
    "      128, 15,decay = [10], lr = 1e-2)\n",
    "    val_acc = validate(pruned_md, dataset_test, to_print = False)\n",
    "    accuracy.append(val_acc)"
   ]
  },
  {
   "cell_type": "code",
   "execution_count": 6,
   "metadata": {
    "colab": {
     "base_uri": "https://localhost:8080/",
     "height": 475
    },
    "id": "8fOkKgdFPXSy",
    "outputId": "dd2fd40d-befd-4353-bfc0-1224ac1254eb"
   },
   "outputs": [
    {
     "data": {
      "text/plain": [
       "Text(0.5, 1.0, 'dependence accuraccy of cluster numbers')"
      ]
     },
     "execution_count": 6,
     "metadata": {
      "tags": []
     },
     "output_type": "execute_result"
    },
    {
     "data": {
      "image/png": "[encoded data removed]",
      "text/plain": [
       "<Figure size 720x504 with 1 Axes>"
      ]
     },
     "metadata": {
      "needs_background": "light",
      "tags": []
     },
     "output_type": "display_data"
    }
   ],
   "source": [
    "plt.figure(figsize = (10, 7))\n",
    "plt.plot(cluster_ratio, accuracy)\n",
    "\n",
    "plt.xlabel('number of clusters')\n",
    "plt.ylabel('accuracy')\n",
    "plt.title('dependence accuraccy of cluster numbers')"
   ]
  },
  {
   "cell_type": "markdown",
   "metadata": {
    "id": "_ylLWR29o-hE"
   },
   "source": [
    "### Выводы\n",
    "\n",
    "   1. Без дополнительного доубучения запруненая модель выдает неадекватное качество(если бы я был фильтром и мне бы на вход начали давать что-то совершенно другое, я бы тоже удивился), дообучив модель дополнительно, получается приемлемое качество\n",
    "   \n",
    "   3. Сохраняем 85% точности снизив вес модели в 2 раза\n",
    "   \n",
    "   2. Для более точных результатов надо делать несколько запусков и рисовать доверительные интервалы,более большим моделям давать больше эпох, но надо больше времени"
   ]
  },
  {
   "cell_type": "markdown",
   "metadata": {
    "id": "OLqhoAqso-uG"
   },
   "source": [
    "### Улучшения\n",
    "\n",
    "   1. Так как размеры фильтров достаточно большие (особено в конце сети, 3\\*3\\*256 = 2304), все объекты почти одинаково разноудалены друг от друга и кластеризации основанные на расстоянии скорее всего работают не так хорошо как хотелось бы. Возможно имело бы смысл попробовать научиться отображать в более маленькое подпространство, там кластеризовать, а из него обратно в наше простраство переводить центры кластеров, это можно сделать ,например, автоэнкодером.\n",
    "    \n",
    "   2. Можно придумать более сложный алгоритм для подбора количества кластеров, чем выбирать их руками. Например для такой задачи подойдет генетический алгоритм или имитации отжига, это было бы интересно.\n",
    "   \n",
    "   3. Можно попромовать другие кластеризации позволяющие задавать число кластеров, например агломеративную кластеризацию.\n",
    "   \n",
    "   4. После такого прунинга можно еще попробовать занулить маленькие веса + квантизировать"
   ]
  },
  {
   "cell_type": "code",
   "execution_count": null,
   "metadata": {
    "id": "qXNAR690pHqJ"
   },
   "outputs": [],
   "source": []
  }
 ],
 "metadata": {
  "accelerator": "GPU",
  "colab": {
   "collapsed_sections": [],
   "name": "Untitled6.ipynb",
   "provenance": []
  },
  "kernelspec": {
   "display_name": "Python 3",
   "language": "python",
   "name": "python3"
  },
  "language_info": {
   "codemirror_mode": {
    "name": "ipython",
    "version": 3
   },
   "file_extension": ".py",
   "mimetype": "text/x-python",
   "name": "python",
   "nbconvert_exporter": "python",
   "pygments_lexer": "ipython3",
   "version": "3.7.4"
  }
 },
 "nbformat": 4,
 "nbformat_minor": 2
}
